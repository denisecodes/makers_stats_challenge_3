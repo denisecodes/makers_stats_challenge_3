{
 "cells": [
  {
   "cell_type": "markdown",
   "id": "47821d94-21fd-49e5-963a-e6af1d624366",
   "metadata": {},
   "source": [
    "# Simple Linear Regression - Salary Data #\n",
    "Use the dataset ***SLR_salary.csv*** for this exercise.\n"
   ]
  },
  {
   "cell_type": "markdown",
   "id": "d2031968-b814-465c-8753-8f0c5802d0d2",
   "metadata": {},
   "source": [
    "## Import relevant packages and read the data ##"
   ]
  },
  {
   "cell_type": "code",
   "execution_count": 16,
   "id": "970aab18-7302-46df-8769-0f438484b722",
   "metadata": {},
   "outputs": [],
   "source": [
    "import pandas as pd\n",
    "import matplotlib.pyplot as plt\n",
    "from sklearn.model_selection import train_test_split\n",
    "import statsmodels.api as sm\n",
    "import sklearn.metrics as metrics\n",
    "import numpy as np"
   ]
  },
  {
   "cell_type": "code",
   "execution_count": 4,
   "id": "f11fd20f",
   "metadata": {},
   "outputs": [
    {
     "data": {
      "text/html": [
       "<div>\n",
       "<style scoped>\n",
       "    .dataframe tbody tr th:only-of-type {\n",
       "        vertical-align: middle;\n",
       "    }\n",
       "\n",
       "    .dataframe tbody tr th {\n",
       "        vertical-align: top;\n",
       "    }\n",
       "\n",
       "    .dataframe thead th {\n",
       "        text-align: right;\n",
       "    }\n",
       "</style>\n",
       "<table border=\"1\" class=\"dataframe\">\n",
       "  <thead>\n",
       "    <tr style=\"text-align: right;\">\n",
       "      <th></th>\n",
       "      <th>YearsExperience</th>\n",
       "      <th>Salary</th>\n",
       "    </tr>\n",
       "  </thead>\n",
       "  <tbody>\n",
       "    <tr>\n",
       "      <th>0</th>\n",
       "      <td>1.1</td>\n",
       "      <td>39343</td>\n",
       "    </tr>\n",
       "    <tr>\n",
       "      <th>1</th>\n",
       "      <td>1.3</td>\n",
       "      <td>46205</td>\n",
       "    </tr>\n",
       "    <tr>\n",
       "      <th>2</th>\n",
       "      <td>1.5</td>\n",
       "      <td>37731</td>\n",
       "    </tr>\n",
       "    <tr>\n",
       "      <th>3</th>\n",
       "      <td>2.0</td>\n",
       "      <td>43525</td>\n",
       "    </tr>\n",
       "    <tr>\n",
       "      <th>4</th>\n",
       "      <td>2.2</td>\n",
       "      <td>39891</td>\n",
       "    </tr>\n",
       "  </tbody>\n",
       "</table>\n",
       "</div>"
      ],
      "text/plain": [
       "   YearsExperience  Salary\n",
       "0              1.1   39343\n",
       "1              1.3   46205\n",
       "2              1.5   37731\n",
       "3              2.0   43525\n",
       "4              2.2   39891"
      ]
     },
     "execution_count": 4,
     "metadata": {},
     "output_type": "execute_result"
    }
   ],
   "source": [
    "file = pd.read_csv(\"SLR_salary.csv\")\n",
    "\n",
    "salary_df = pd.DataFrame(file)\n",
    "\n",
    "salary_df.head()"
   ]
  },
  {
   "cell_type": "markdown",
   "id": "a7e42136-9410-4052-a6c7-b715d44097e6",
   "metadata": {},
   "source": [
    "## Explore the data ##\n"
   ]
  },
  {
   "cell_type": "code",
   "execution_count": 6,
   "id": "dcf6b5eb-035f-4902-8859-239f71b80e49",
   "metadata": {},
   "outputs": [
    {
     "name": "stdout",
     "output_type": "stream",
     "text": [
      "<class 'pandas.core.frame.DataFrame'>\n",
      "RangeIndex: 30 entries, 0 to 29\n",
      "Data columns (total 2 columns):\n",
      " #   Column           Non-Null Count  Dtype  \n",
      "---  ------           --------------  -----  \n",
      " 0   YearsExperience  30 non-null     float64\n",
      " 1   Salary           30 non-null     int64  \n",
      "dtypes: float64(1), int64(1)\n",
      "memory usage: 608.0 bytes\n"
     ]
    }
   ],
   "source": [
    "# Check what the data types and columns are like\n",
    "salary_df.info()"
   ]
  },
  {
   "cell_type": "code",
   "execution_count": 7,
   "id": "debb764f",
   "metadata": {},
   "outputs": [
    {
     "data": {
      "text/html": [
       "<div>\n",
       "<style scoped>\n",
       "    .dataframe tbody tr th:only-of-type {\n",
       "        vertical-align: middle;\n",
       "    }\n",
       "\n",
       "    .dataframe tbody tr th {\n",
       "        vertical-align: top;\n",
       "    }\n",
       "\n",
       "    .dataframe thead th {\n",
       "        text-align: right;\n",
       "    }\n",
       "</style>\n",
       "<table border=\"1\" class=\"dataframe\">\n",
       "  <thead>\n",
       "    <tr style=\"text-align: right;\">\n",
       "      <th></th>\n",
       "      <th>YearsExperience</th>\n",
       "      <th>Salary</th>\n",
       "    </tr>\n",
       "  </thead>\n",
       "  <tbody>\n",
       "    <tr>\n",
       "      <th>count</th>\n",
       "      <td>30.000000</td>\n",
       "      <td>30.000000</td>\n",
       "    </tr>\n",
       "    <tr>\n",
       "      <th>mean</th>\n",
       "      <td>5.313333</td>\n",
       "      <td>76003.000000</td>\n",
       "    </tr>\n",
       "    <tr>\n",
       "      <th>std</th>\n",
       "      <td>2.837888</td>\n",
       "      <td>27414.429785</td>\n",
       "    </tr>\n",
       "    <tr>\n",
       "      <th>min</th>\n",
       "      <td>1.100000</td>\n",
       "      <td>37731.000000</td>\n",
       "    </tr>\n",
       "    <tr>\n",
       "      <th>25%</th>\n",
       "      <td>3.200000</td>\n",
       "      <td>56720.750000</td>\n",
       "    </tr>\n",
       "    <tr>\n",
       "      <th>50%</th>\n",
       "      <td>4.700000</td>\n",
       "      <td>65237.000000</td>\n",
       "    </tr>\n",
       "    <tr>\n",
       "      <th>75%</th>\n",
       "      <td>7.700000</td>\n",
       "      <td>100544.750000</td>\n",
       "    </tr>\n",
       "    <tr>\n",
       "      <th>max</th>\n",
       "      <td>10.500000</td>\n",
       "      <td>122391.000000</td>\n",
       "    </tr>\n",
       "  </tbody>\n",
       "</table>\n",
       "</div>"
      ],
      "text/plain": [
       "       YearsExperience         Salary\n",
       "count        30.000000      30.000000\n",
       "mean          5.313333   76003.000000\n",
       "std           2.837888   27414.429785\n",
       "min           1.100000   37731.000000\n",
       "25%           3.200000   56720.750000\n",
       "50%           4.700000   65237.000000\n",
       "75%           7.700000  100544.750000\n",
       "max          10.500000  122391.000000"
      ]
     },
     "execution_count": 7,
     "metadata": {},
     "output_type": "execute_result"
    }
   ],
   "source": [
    "# See what the dataset is like in terms of mean, sd, percentiles\n",
    "\n",
    "salary_df.describe()"
   ]
  },
  {
   "cell_type": "markdown",
   "id": "d0db9163",
   "metadata": {},
   "source": [
    "From the output above, I can see that the salary data is a bit skewed, seems like from the median to the max, it's quite big in comparison to the min and median. Could be worth making a box plot and see this. Also let's make one for Years Experience too."
   ]
  },
  {
   "cell_type": "code",
   "execution_count": 12,
   "id": "182dd774",
   "metadata": {},
   "outputs": [
    {
     "data": {
      "text/plain": [
       "<Axes: >"
      ]
     },
     "execution_count": 12,
     "metadata": {},
     "output_type": "execute_result"
    },
    {
     "data": {
      "image/png": "[encoded data removed]",
      "text/plain": [
       "<Figure size 640x480 with 1 Axes>"
      ]
     },
     "metadata": {},
     "output_type": "display_data"
    }
   ],
   "source": [
    "salary_df['Salary'].plot.box(vert = False)"
   ]
  },
  {
   "cell_type": "markdown",
   "id": "7257b571",
   "metadata": {},
   "source": [
    "This does shoe that that most of the salary is falling above the median and most of the data lies in the top half."
   ]
  },
  {
   "cell_type": "code",
   "execution_count": 13,
   "id": "22452a1b",
   "metadata": {},
   "outputs": [
    {
     "data": {
      "text/plain": [
       "<Axes: >"
      ]
     },
     "execution_count": 13,
     "metadata": {},
     "output_type": "execute_result"
    },
    {
     "data": {
      "image/png": "[encoded data removed]",
      "text/plain": [
       "<Figure size 640x480 with 1 Axes>"
      ]
     },
     "metadata": {},
     "output_type": "display_data"
    }
   ],
   "source": [
    "salary_df['YearsExperience'].plot.box(vert = False)"
   ]
  },
  {
   "cell_type": "markdown",
   "id": "eb84631c",
   "metadata": {},
   "source": [
    "Similarly, the years of experience is also mostly skewed with more people with more than the median years of experience in this dataset"
   ]
  },
  {
   "cell_type": "code",
   "execution_count": 10,
   "id": "9abe1b81",
   "metadata": {},
   "outputs": [
    {
     "data": {
      "text/plain": [
       "YearsExperience    False\n",
       "Salary             False\n",
       "dtype: bool"
      ]
     },
     "execution_count": 10,
     "metadata": {},
     "output_type": "execute_result"
    }
   ],
   "source": [
    "# Check if there are any null values\n",
    "\n",
    "salary_df.isnull().any()"
   ]
  },
  {
   "cell_type": "code",
   "execution_count": 11,
   "id": "bf12ec65",
   "metadata": {},
   "outputs": [
    {
     "data": {
      "text/html": [
       "<div>\n",
       "<style scoped>\n",
       "    .dataframe tbody tr th:only-of-type {\n",
       "        vertical-align: middle;\n",
       "    }\n",
       "\n",
       "    .dataframe tbody tr th {\n",
       "        vertical-align: top;\n",
       "    }\n",
       "\n",
       "    .dataframe thead th {\n",
       "        text-align: right;\n",
       "    }\n",
       "</style>\n",
       "<table border=\"1\" class=\"dataframe\">\n",
       "  <thead>\n",
       "    <tr style=\"text-align: right;\">\n",
       "      <th></th>\n",
       "      <th>YearsExperience</th>\n",
       "      <th>Salary</th>\n",
       "    </tr>\n",
       "  </thead>\n",
       "  <tbody>\n",
       "    <tr>\n",
       "      <th>YearsExperience</th>\n",
       "      <td>1.000000</td>\n",
       "      <td>0.978242</td>\n",
       "    </tr>\n",
       "    <tr>\n",
       "      <th>Salary</th>\n",
       "      <td>0.978242</td>\n",
       "      <td>1.000000</td>\n",
       "    </tr>\n",
       "  </tbody>\n",
       "</table>\n",
       "</div>"
      ],
      "text/plain": [
       "                 YearsExperience    Salary\n",
       "YearsExperience         1.000000  0.978242\n",
       "Salary                  0.978242  1.000000"
      ]
     },
     "execution_count": 11,
     "metadata": {},
     "output_type": "execute_result"
    }
   ],
   "source": [
    "salary_df.corr()"
   ]
  },
  {
   "cell_type": "markdown",
   "id": "5221663b",
   "metadata": {},
   "source": [
    "Seems like there is a strong correlation between years of experience and salary, will need to plot a scatter graph to see if this is the case as we know that correlation coefficient can be deceiving and inaccurate."
   ]
  },
  {
   "cell_type": "markdown",
   "id": "2957f13d-0028-49d1-bcf6-791886ed81fb",
   "metadata": {},
   "source": [
    "## Plot a Scatter graph ##"
   ]
  },
  {
   "cell_type": "code",
   "execution_count": 15,
   "id": "b624f475-6f6c-4609-a1c4-9e592b5c5ea4",
   "metadata": {},
   "outputs": [
    {
     "data": {
      "image/png": "[encoded data removed]",
      "text/plain": [
       "<Figure size 640x480 with 1 Axes>"
      ]
     },
     "metadata": {},
     "output_type": "display_data"
    }
   ],
   "source": [
    "# Scatter plot using DataFrame's column values\n",
    "plt.scatter(salary_df['YearsExperience'], salary_df['Salary'], color='blue') \n",
    "\n",
    "# Set plot labels and title\n",
    "plt.xlabel('Years of Experience') \n",
    "plt.ylabel('Salary')  \n",
    "plt.title('Salary and Years of Experience') \n",
    "\n",
    "plt.show()"
   ]
  },
  {
   "cell_type": "markdown",
   "id": "4ad73dbf",
   "metadata": {},
   "source": [
    "Base on this scatter plot and the strong positive correlation we found, we can see a strong relationship between Years of Experience and Salary, whereby we can start looking at a line of best fit to predict the model from this dataset."
   ]
  },
  {
   "cell_type": "code",
   "execution_count": 22,
   "id": "b51311fd",
   "metadata": {},
   "outputs": [
    {
     "data": {
      "image/png": "[encoded data removed]",
      "text/plain": [
       "<Figure size 640x480 with 1 Axes>"
      ]
     },
     "metadata": {},
     "output_type": "display_data"
    },
    {
     "name": "stdout",
     "output_type": "stream",
     "text": [
      "The equation of the line of best fit is y = 9449.9623x + 25792.2002\n"
     ]
    }
   ],
   "source": [
    "years = salary_df['YearsExperience']\n",
    "salary = salary_df['Salary']\n",
    "\n",
    "# Create a scatter plot of the data points\n",
    "plt.scatter(years, salary)\n",
    "\n",
    "# Compute the line of best fit\n",
    "m, c = np.polyfit(years, salary, 1)\n",
    "\n",
    "# Plot the line of best fit\n",
    "plt.plot(years, (m * years) + c, color='red')\n",
    "\n",
    "# Add labels and a title\n",
    "plt.xlabel('Years of Experience')\n",
    "plt.ylabel('Salary')\n",
    "plt.title('Scatter Plot with Line of Best Fit')\n",
    "\n",
    "# Show the plot\n",
    "plt.show()\n",
    "\n",
    "# Print the slope and y-intercept of the line of best fit\n",
    "print(f\"The equation of the line of best fit is y = {m:.4f}x + {c:.4f}\")"
   ]
  },
  {
   "cell_type": "markdown",
   "id": "6973c6b4",
   "metadata": {},
   "source": [
    "We can see from the above there is a line of best fit for this dataset where we can use it to perform predictive analysis and predict what the salary could be base on years of experience, vice versa. However, the line of best fit is not perfect and there can be errors so it's important to built a model and check for measurement errors."
   ]
  },
  {
   "cell_type": "markdown",
   "id": "3a5f6122-01ba-4c51-841e-0d5246e627b0",
   "metadata": {},
   "source": [
    "## Split the DataFrame into train and test data ##"
   ]
  },
  {
   "cell_type": "code",
   "execution_count": 23,
   "id": "6e0ac9ec-cba9-4173-b868-e8bf34403791",
   "metadata": {},
   "outputs": [],
   "source": [
    "train, test = train_test_split(\n",
    "    salary_df,\n",
    "    random_state = 13\n",
    ")"
   ]
  },
  {
   "cell_type": "code",
   "execution_count": 36,
   "id": "76a7778e",
   "metadata": {},
   "outputs": [
    {
     "data": {
      "text/plain": [
       "(22, 2)"
      ]
     },
     "execution_count": 36,
     "metadata": {},
     "output_type": "execute_result"
    }
   ],
   "source": [
    "train.shape"
   ]
  },
  {
   "cell_type": "code",
   "execution_count": 39,
   "id": "ce966ef1",
   "metadata": {},
   "outputs": [
    {
     "data": {
      "text/html": [
       "<div>\n",
       "<style scoped>\n",
       "    .dataframe tbody tr th:only-of-type {\n",
       "        vertical-align: middle;\n",
       "    }\n",
       "\n",
       "    .dataframe tbody tr th {\n",
       "        vertical-align: top;\n",
       "    }\n",
       "\n",
       "    .dataframe thead th {\n",
       "        text-align: right;\n",
       "    }\n",
       "</style>\n",
       "<table border=\"1\" class=\"dataframe\">\n",
       "  <thead>\n",
       "    <tr style=\"text-align: right;\">\n",
       "      <th></th>\n",
       "      <th>YearsExperience</th>\n",
       "      <th>Salary</th>\n",
       "    </tr>\n",
       "  </thead>\n",
       "  <tbody>\n",
       "    <tr>\n",
       "      <th>17</th>\n",
       "      <td>5.3</td>\n",
       "      <td>83088</td>\n",
       "    </tr>\n",
       "    <tr>\n",
       "      <th>21</th>\n",
       "      <td>7.1</td>\n",
       "      <td>98273</td>\n",
       "    </tr>\n",
       "    <tr>\n",
       "      <th>0</th>\n",
       "      <td>1.1</td>\n",
       "      <td>39343</td>\n",
       "    </tr>\n",
       "    <tr>\n",
       "      <th>19</th>\n",
       "      <td>6.0</td>\n",
       "      <td>93940</td>\n",
       "    </tr>\n",
       "    <tr>\n",
       "      <th>4</th>\n",
       "      <td>2.2</td>\n",
       "      <td>39891</td>\n",
       "    </tr>\n",
       "    <tr>\n",
       "      <th>11</th>\n",
       "      <td>4.0</td>\n",
       "      <td>55794</td>\n",
       "    </tr>\n",
       "    <tr>\n",
       "      <th>9</th>\n",
       "      <td>3.7</td>\n",
       "      <td>57189</td>\n",
       "    </tr>\n",
       "    <tr>\n",
       "      <th>27</th>\n",
       "      <td>9.6</td>\n",
       "      <td>112635</td>\n",
       "    </tr>\n",
       "    <tr>\n",
       "      <th>13</th>\n",
       "      <td>4.1</td>\n",
       "      <td>57081</td>\n",
       "    </tr>\n",
       "    <tr>\n",
       "      <th>5</th>\n",
       "      <td>2.9</td>\n",
       "      <td>56642</td>\n",
       "    </tr>\n",
       "    <tr>\n",
       "      <th>14</th>\n",
       "      <td>4.5</td>\n",
       "      <td>61111</td>\n",
       "    </tr>\n",
       "    <tr>\n",
       "      <th>24</th>\n",
       "      <td>8.7</td>\n",
       "      <td>109431</td>\n",
       "    </tr>\n",
       "    <tr>\n",
       "      <th>23</th>\n",
       "      <td>8.2</td>\n",
       "      <td>113812</td>\n",
       "    </tr>\n",
       "    <tr>\n",
       "      <th>3</th>\n",
       "      <td>2.0</td>\n",
       "      <td>43525</td>\n",
       "    </tr>\n",
       "    <tr>\n",
       "      <th>12</th>\n",
       "      <td>4.0</td>\n",
       "      <td>56957</td>\n",
       "    </tr>\n",
       "    <tr>\n",
       "      <th>20</th>\n",
       "      <td>6.8</td>\n",
       "      <td>91738</td>\n",
       "    </tr>\n",
       "    <tr>\n",
       "      <th>2</th>\n",
       "      <td>1.5</td>\n",
       "      <td>37731</td>\n",
       "    </tr>\n",
       "    <tr>\n",
       "      <th>6</th>\n",
       "      <td>3.0</td>\n",
       "      <td>60150</td>\n",
       "    </tr>\n",
       "    <tr>\n",
       "      <th>28</th>\n",
       "      <td>10.3</td>\n",
       "      <td>122391</td>\n",
       "    </tr>\n",
       "    <tr>\n",
       "      <th>10</th>\n",
       "      <td>3.9</td>\n",
       "      <td>63218</td>\n",
       "    </tr>\n",
       "    <tr>\n",
       "      <th>16</th>\n",
       "      <td>5.1</td>\n",
       "      <td>66029</td>\n",
       "    </tr>\n",
       "    <tr>\n",
       "      <th>18</th>\n",
       "      <td>5.9</td>\n",
       "      <td>81363</td>\n",
       "    </tr>\n",
       "  </tbody>\n",
       "</table>\n",
       "</div>"
      ],
      "text/plain": [
       "    YearsExperience  Salary\n",
       "17              5.3   83088\n",
       "21              7.1   98273\n",
       "0               1.1   39343\n",
       "19              6.0   93940\n",
       "4               2.2   39891\n",
       "11              4.0   55794\n",
       "9               3.7   57189\n",
       "27              9.6  112635\n",
       "13              4.1   57081\n",
       "5               2.9   56642\n",
       "14              4.5   61111\n",
       "24              8.7  109431\n",
       "23              8.2  113812\n",
       "3               2.0   43525\n",
       "12              4.0   56957\n",
       "20              6.8   91738\n",
       "2               1.5   37731\n",
       "6               3.0   60150\n",
       "28             10.3  122391\n",
       "10              3.9   63218\n",
       "16              5.1   66029\n",
       "18              5.9   81363"
      ]
     },
     "execution_count": 39,
     "metadata": {},
     "output_type": "execute_result"
    }
   ],
   "source": [
    "train"
   ]
  },
  {
   "cell_type": "code",
   "execution_count": 34,
   "id": "15a69cbf",
   "metadata": {},
   "outputs": [
    {
     "data": {
      "text/plain": [
       "(8, 2)"
      ]
     },
     "execution_count": 34,
     "metadata": {},
     "output_type": "execute_result"
    }
   ],
   "source": [
    "test.shape"
   ]
  },
  {
   "cell_type": "code",
   "execution_count": 40,
   "id": "a7fadaab",
   "metadata": {},
   "outputs": [
    {
     "data": {
      "text/html": [
       "<div>\n",
       "<style scoped>\n",
       "    .dataframe tbody tr th:only-of-type {\n",
       "        vertical-align: middle;\n",
       "    }\n",
       "\n",
       "    .dataframe tbody tr th {\n",
       "        vertical-align: top;\n",
       "    }\n",
       "\n",
       "    .dataframe thead th {\n",
       "        text-align: right;\n",
       "    }\n",
       "</style>\n",
       "<table border=\"1\" class=\"dataframe\">\n",
       "  <thead>\n",
       "    <tr style=\"text-align: right;\">\n",
       "      <th></th>\n",
       "      <th>YearsExperience</th>\n",
       "      <th>Salary</th>\n",
       "    </tr>\n",
       "  </thead>\n",
       "  <tbody>\n",
       "    <tr>\n",
       "      <th>22</th>\n",
       "      <td>7.9</td>\n",
       "      <td>101302</td>\n",
       "    </tr>\n",
       "    <tr>\n",
       "      <th>15</th>\n",
       "      <td>4.9</td>\n",
       "      <td>67938</td>\n",
       "    </tr>\n",
       "    <tr>\n",
       "      <th>26</th>\n",
       "      <td>9.5</td>\n",
       "      <td>116969</td>\n",
       "    </tr>\n",
       "    <tr>\n",
       "      <th>1</th>\n",
       "      <td>1.3</td>\n",
       "      <td>46205</td>\n",
       "    </tr>\n",
       "    <tr>\n",
       "      <th>25</th>\n",
       "      <td>9.0</td>\n",
       "      <td>105582</td>\n",
       "    </tr>\n",
       "    <tr>\n",
       "      <th>8</th>\n",
       "      <td>3.2</td>\n",
       "      <td>64445</td>\n",
       "    </tr>\n",
       "    <tr>\n",
       "      <th>7</th>\n",
       "      <td>3.2</td>\n",
       "      <td>54445</td>\n",
       "    </tr>\n",
       "    <tr>\n",
       "      <th>29</th>\n",
       "      <td>10.5</td>\n",
       "      <td>121872</td>\n",
       "    </tr>\n",
       "  </tbody>\n",
       "</table>\n",
       "</div>"
      ],
      "text/plain": [
       "    YearsExperience  Salary\n",
       "22              7.9  101302\n",
       "15              4.9   67938\n",
       "26              9.5  116969\n",
       "1               1.3   46205\n",
       "25              9.0  105582\n",
       "8               3.2   64445\n",
       "7               3.2   54445\n",
       "29             10.5  121872"
      ]
     },
     "execution_count": 40,
     "metadata": {},
     "output_type": "execute_result"
    }
   ],
   "source": [
    "test"
   ]
  },
  {
   "cell_type": "markdown",
   "id": "5cc43024",
   "metadata": {},
   "source": [
    "Checking that both the train and test set are different rows and have different data inside"
   ]
  },
  {
   "cell_type": "markdown",
   "id": "ce492798-5569-4848-8461-df0975850134",
   "metadata": {},
   "source": [
    "\n",
    " ## Train the model\n",
    "\n"
   ]
  },
  {
   "cell_type": "code",
   "execution_count": 69,
   "id": "00986b40-d8dc-4218-931a-67ec0ba2d7fe",
   "metadata": {},
   "outputs": [],
   "source": [
    "dependent_var = train['Salary']\n",
    "independent_var = train['YearsExperience']\n",
    "independent_var = sm.add_constant(independent_var)\n",
    "\n",
    "# Build the model \n",
    "model = sm.OLS(\n",
    "    dependent_var,\n",
    "    independent_var\n",
    ").fit()"
   ]
  },
  {
   "cell_type": "code",
   "execution_count": 70,
   "id": "58ea9a29",
   "metadata": {},
   "outputs": [
    {
     "data": {
      "text/plain": [
       "<statsmodels.regression.linear_model.RegressionResultsWrapper at 0x12cd1db20>"
      ]
     },
     "execution_count": 70,
     "metadata": {},
     "output_type": "execute_result"
    }
   ],
   "source": [
    "model"
   ]
  },
  {
   "cell_type": "markdown",
   "id": "268f8e57",
   "metadata": {},
   "source": [
    "Wanted to check what's the object/data type of model"
   ]
  },
  {
   "cell_type": "markdown",
   "id": "4f3a810b-d2fb-41de-8c9b-ae192067f3e8",
   "metadata": {},
   "source": [
    "## Interpret the model results\n"
   ]
  },
  {
   "cell_type": "code",
   "execution_count": 71,
   "id": "64f57263-c844-42cf-acfe-e61f343d656c",
   "metadata": {},
   "outputs": [
    {
     "data": {
      "text/html": [
       "<table class=\"simpletable\">\n",
       "<caption>OLS Regression Results</caption>\n",
       "<tr>\n",
       "  <th>Dep. Variable:</th>         <td>Salary</td>      <th>  R-squared:         </th> <td>   0.952</td>\n",
       "</tr>\n",
       "<tr>\n",
       "  <th>Model:</th>                   <td>OLS</td>       <th>  Adj. R-squared:    </th> <td>   0.950</td>\n",
       "</tr>\n",
       "<tr>\n",
       "  <th>Method:</th>             <td>Least Squares</td>  <th>  F-statistic:       </th> <td>   398.1</td>\n",
       "</tr>\n",
       "<tr>\n",
       "  <th>Date:</th>             <td>Tue, 07 Nov 2023</td> <th>  Prob (F-statistic):</th> <td>1.13e-14</td>\n",
       "</tr>\n",
       "<tr>\n",
       "  <th>Time:</th>                 <td>13:41:35</td>     <th>  Log-Likelihood:    </th> <td> -221.31</td>\n",
       "</tr>\n",
       "<tr>\n",
       "  <th>No. Observations:</th>      <td>    22</td>      <th>  AIC:               </th> <td>   446.6</td>\n",
       "</tr>\n",
       "<tr>\n",
       "  <th>Df Residuals:</th>          <td>    20</td>      <th>  BIC:               </th> <td>   448.8</td>\n",
       "</tr>\n",
       "<tr>\n",
       "  <th>Df Model:</th>              <td>     1</td>      <th>                     </th>     <td> </td>   \n",
       "</tr>\n",
       "<tr>\n",
       "  <th>Covariance Type:</th>      <td>nonrobust</td>    <th>                     </th>     <td> </td>   \n",
       "</tr>\n",
       "</table>\n",
       "<table class=\"simpletable\">\n",
       "<tr>\n",
       "         <td></td>            <th>coef</th>     <th>std err</th>      <th>t</th>      <th>P>|t|</th>  <th>[0.025</th>    <th>0.975]</th>  \n",
       "</tr>\n",
       "<tr>\n",
       "  <th>const</th>           <td> 2.306e+04</td> <td> 2795.184</td> <td>    8.249</td> <td> 0.000</td> <td> 1.72e+04</td> <td> 2.89e+04</td>\n",
       "</tr>\n",
       "<tr>\n",
       "  <th>YearsExperience</th> <td> 9955.3660</td> <td>  498.963</td> <td>   19.952</td> <td> 0.000</td> <td> 8914.548</td> <td>  1.1e+04</td>\n",
       "</tr>\n",
       "</table>\n",
       "<table class=\"simpletable\">\n",
       "<tr>\n",
       "  <th>Omnibus:</th>       <td> 2.515</td> <th>  Durbin-Watson:     </th> <td>   1.734</td>\n",
       "</tr>\n",
       "<tr>\n",
       "  <th>Prob(Omnibus):</th> <td> 0.284</td> <th>  Jarque-Bera (JB):  </th> <td>   1.394</td>\n",
       "</tr>\n",
       "<tr>\n",
       "  <th>Skew:</th>          <td> 0.303</td> <th>  Prob(JB):          </th> <td>   0.498</td>\n",
       "</tr>\n",
       "<tr>\n",
       "  <th>Kurtosis:</th>      <td> 1.926</td> <th>  Cond. No.          </th> <td>    12.7</td>\n",
       "</tr>\n",
       "</table><br/><br/>Notes:<br/>[1] Standard Errors assume that the covariance matrix of the errors is correctly specified."
      ],
      "text/latex": [
       "\\begin{center}\n",
       "\\begin{tabular}{lclc}\n",
       "\\toprule\n",
       "\\textbf{Dep. Variable:}    &      Salary      & \\textbf{  R-squared:         } &     0.952   \\\\\n",
       "\\textbf{Model:}            &       OLS        & \\textbf{  Adj. R-squared:    } &     0.950   \\\\\n",
       "\\textbf{Method:}           &  Least Squares   & \\textbf{  F-statistic:       } &     398.1   \\\\\n",
       "\\textbf{Date:}             & Tue, 07 Nov 2023 & \\textbf{  Prob (F-statistic):} &  1.13e-14   \\\\\n",
       "\\textbf{Time:}             &     13:41:35     & \\textbf{  Log-Likelihood:    } &   -221.31   \\\\\n",
       "\\textbf{No. Observations:} &          22      & \\textbf{  AIC:               } &     446.6   \\\\\n",
       "\\textbf{Df Residuals:}     &          20      & \\textbf{  BIC:               } &     448.8   \\\\\n",
       "\\textbf{Df Model:}         &           1      & \\textbf{                     } &             \\\\\n",
       "\\textbf{Covariance Type:}  &    nonrobust     & \\textbf{                     } &             \\\\\n",
       "\\bottomrule\n",
       "\\end{tabular}\n",
       "\\begin{tabular}{lcccccc}\n",
       "                         & \\textbf{coef} & \\textbf{std err} & \\textbf{t} & \\textbf{P$> |$t$|$} & \\textbf{[0.025} & \\textbf{0.975]}  \\\\\n",
       "\\midrule\n",
       "\\textbf{const}           &    2.306e+04  &     2795.184     &     8.249  &         0.000        &     1.72e+04    &     2.89e+04     \\\\\n",
       "\\textbf{YearsExperience} &    9955.3660  &      498.963     &    19.952  &         0.000        &     8914.548    &      1.1e+04     \\\\\n",
       "\\bottomrule\n",
       "\\end{tabular}\n",
       "\\begin{tabular}{lclc}\n",
       "\\textbf{Omnibus:}       &  2.515 & \\textbf{  Durbin-Watson:     } &    1.734  \\\\\n",
       "\\textbf{Prob(Omnibus):} &  0.284 & \\textbf{  Jarque-Bera (JB):  } &    1.394  \\\\\n",
       "\\textbf{Skew:}          &  0.303 & \\textbf{  Prob(JB):          } &    0.498  \\\\\n",
       "\\textbf{Kurtosis:}      &  1.926 & \\textbf{  Cond. No.          } &     12.7  \\\\\n",
       "\\bottomrule\n",
       "\\end{tabular}\n",
       "%\\caption{OLS Regression Results}\n",
       "\\end{center}\n",
       "\n",
       "Notes: \\newline\n",
       " [1] Standard Errors assume that the covariance matrix of the errors is correctly specified."
      ],
      "text/plain": [
       "<class 'statsmodels.iolib.summary.Summary'>\n",
       "\"\"\"\n",
       "                            OLS Regression Results                            \n",
       "==============================================================================\n",
       "Dep. Variable:                 Salary   R-squared:                       0.952\n",
       "Model:                            OLS   Adj. R-squared:                  0.950\n",
       "Method:                 Least Squares   F-statistic:                     398.1\n",
       "Date:                Tue, 07 Nov 2023   Prob (F-statistic):           1.13e-14\n",
       "Time:                        13:41:35   Log-Likelihood:                -221.31\n",
       "No. Observations:                  22   AIC:                             446.6\n",
       "Df Residuals:                      20   BIC:                             448.8\n",
       "Df Model:                           1                                         \n",
       "Covariance Type:            nonrobust                                         \n",
       "===================================================================================\n",
       "                      coef    std err          t      P>|t|      [0.025      0.975]\n",
       "-----------------------------------------------------------------------------------\n",
       "const            2.306e+04   2795.184      8.249      0.000    1.72e+04    2.89e+04\n",
       "YearsExperience  9955.3660    498.963     19.952      0.000    8914.548     1.1e+04\n",
       "==============================================================================\n",
       "Omnibus:                        2.515   Durbin-Watson:                   1.734\n",
       "Prob(Omnibus):                  0.284   Jarque-Bera (JB):                1.394\n",
       "Skew:                           0.303   Prob(JB):                        0.498\n",
       "Kurtosis:                       1.926   Cond. No.                         12.7\n",
       "==============================================================================\n",
       "\n",
       "Notes:\n",
       "[1] Standard Errors assume that the covariance matrix of the errors is correctly specified.\n",
       "\"\"\""
      ]
     },
     "execution_count": 71,
     "metadata": {},
     "output_type": "execute_result"
    }
   ],
   "source": [
    "model.summary()"
   ]
  },
  {
   "cell_type": "markdown",
   "id": "6c42eaa8",
   "metadata": {},
   "source": [
    "#### p-value\n",
    "\n",
    "![p-value](assets/p-value.png)\n",
    "\n",
    "Looking at the p-value here, it's less than 0.05 so that does suggest the data is statistically significant meaning our correlation is not just a coincidence. This does mean that the years of experience is having an effect on salary."
   ]
  },
  {
   "cell_type": "markdown",
   "id": "a5ec87d3",
   "metadata": {},
   "source": [
    "#### R-squared\n",
    "\n",
    "![r-squared](assets/r-squared.png)\n",
    "\n",
    "This is really high, being at 0.952 meaning that this is a pretty good fit. From the repo, in the real world 30% would be sufficient so this being at 95% means it's almost a near perfect fit. \n",
    "\n",
    "#### Adjusted R-squared\n",
    "\n",
    "Also the value is really high (0.95) for this meaning that if there were more independent variables let's say job industry, title it would still be a good model to use for predicting the salary. "
   ]
  },
  {
   "cell_type": "markdown",
   "id": "7ba44556",
   "metadata": {},
   "source": [
    "#### F-Statistic\n",
    "\n",
    "![f-statistic and prob f-statistic](assets/f-statistic.png)\n",
    "\n",
    "The value is pretty high and it's over one so this does mean the new model is better than the old model. This shows the model we have is pretty reliable and can be used for predictive analysis.\n",
    "\n",
    "#### Prob (F-Statistic)\n",
    "\n",
    "So for prob (F-Statistic), the lower the probability, means the bigger the difference the new and old model are. So in this case, this means this regression model is a lot better statistically than the base one."
   ]
  },
  {
   "cell_type": "markdown",
   "id": "ceec7097",
   "metadata": {},
   "source": [
    "Given we have check all these measurements and they all show this model is promising, let's go ahead and predict the data using the test set."
   ]
  },
  {
   "cell_type": "markdown",
   "id": "d8386cd6-cdee-4be7-a741-5e6937226a7a",
   "metadata": {},
   "source": [
    "## Predict data in the test set ##\n",
    "\n"
   ]
  },
  {
   "cell_type": "code",
   "execution_count": 62,
   "id": "4109705e-5608-4a0a-9865-0558a2f3a307",
   "metadata": {},
   "outputs": [
    {
     "data": {
      "text/plain": [
       "22    7.722642\n",
       "15    4.531602\n",
       "26    9.221084\n",
       "1     2.452989\n",
       "25    8.131995\n",
       "8     4.197521\n",
       "7     3.241089\n",
       "29    9.690023\n",
       "dtype: float64"
      ]
     },
     "execution_count": 62,
     "metadata": {},
     "output_type": "execute_result"
    }
   ],
   "source": [
    "# Make predictions on the salary \n",
    "predictions = model.predict(sm.add_constant(test['Salary']))\n",
    "predictions"
   ]
  },
  {
   "cell_type": "markdown",
   "id": "d2dec081-ffc8-4184-bf5b-6afa84491182",
   "metadata": {},
   "source": [
    "## Is the model also 'a good fit' for our test data? ##\n"
   ]
  },
  {
   "cell_type": "code",
   "execution_count": 63,
   "id": "63fe49ff-be8a-4222-97ce-b58389b0712f",
   "metadata": {},
   "outputs": [
    {
     "name": "stdout",
     "output_type": "stream",
     "text": [
      "R-squared score: 0.9525039889872098\n"
     ]
    }
   ],
   "source": [
    "# Measure the test R squared on YearsExperience (the dependent variable of salary)\n",
    "\n",
    "r2 = metrics.r2_score(test['YearsExperience'], predictions)\n",
    "print(\"R-squared score:\", r2)"
   ]
  },
  {
   "cell_type": "markdown",
   "id": "db65a704",
   "metadata": {},
   "source": [
    "The test R-Squared score here matches super close to the R-Squared score on the model R-Square score meaning that we can be confident if we were to use this to build a model for new dataset. We want roughly 10% + or - in the real world and this fits well within that parameter"
   ]
  },
  {
   "cell_type": "markdown",
   "id": "3b2e09fb-12e5-4e51-8c36-be482a7bc77e",
   "metadata": {},
   "source": [
    "## Rebuild the model for the whole data set ##"
   ]
  },
  {
   "cell_type": "code",
   "execution_count": 64,
   "id": "d6917d09-04ec-476b-9c23-0987fefcadea",
   "metadata": {},
   "outputs": [
    {
     "data": {
      "text/html": [
       "<table class=\"simpletable\">\n",
       "<caption>OLS Regression Results</caption>\n",
       "<tr>\n",
       "  <th>Dep. Variable:</th>         <td>Salary</td>      <th>  R-squared:         </th> <td>   0.957</td>\n",
       "</tr>\n",
       "<tr>\n",
       "  <th>Model:</th>                   <td>OLS</td>       <th>  Adj. R-squared:    </th> <td>   0.955</td>\n",
       "</tr>\n",
       "<tr>\n",
       "  <th>Method:</th>             <td>Least Squares</td>  <th>  F-statistic:       </th> <td>   622.5</td>\n",
       "</tr>\n",
       "<tr>\n",
       "  <th>Date:</th>             <td>Tue, 07 Nov 2023</td> <th>  Prob (F-statistic):</th> <td>1.14e-20</td>\n",
       "</tr>\n",
       "<tr>\n",
       "  <th>Time:</th>                 <td>13:29:41</td>     <th>  Log-Likelihood:    </th> <td> -301.44</td>\n",
       "</tr>\n",
       "<tr>\n",
       "  <th>No. Observations:</th>      <td>    30</td>      <th>  AIC:               </th> <td>   606.9</td>\n",
       "</tr>\n",
       "<tr>\n",
       "  <th>Df Residuals:</th>          <td>    28</td>      <th>  BIC:               </th> <td>   609.7</td>\n",
       "</tr>\n",
       "<tr>\n",
       "  <th>Df Model:</th>              <td>     1</td>      <th>                     </th>     <td> </td>   \n",
       "</tr>\n",
       "<tr>\n",
       "  <th>Covariance Type:</th>      <td>nonrobust</td>    <th>                     </th>     <td> </td>   \n",
       "</tr>\n",
       "</table>\n",
       "<table class=\"simpletable\">\n",
       "<tr>\n",
       "         <td></td>            <th>coef</th>     <th>std err</th>      <th>t</th>      <th>P>|t|</th>  <th>[0.025</th>    <th>0.975]</th>  \n",
       "</tr>\n",
       "<tr>\n",
       "  <th>const</th>           <td> 2.579e+04</td> <td> 2273.053</td> <td>   11.347</td> <td> 0.000</td> <td> 2.11e+04</td> <td> 3.04e+04</td>\n",
       "</tr>\n",
       "<tr>\n",
       "  <th>YearsExperience</th> <td> 9449.9623</td> <td>  378.755</td> <td>   24.950</td> <td> 0.000</td> <td> 8674.119</td> <td> 1.02e+04</td>\n",
       "</tr>\n",
       "</table>\n",
       "<table class=\"simpletable\">\n",
       "<tr>\n",
       "  <th>Omnibus:</th>       <td> 2.140</td> <th>  Durbin-Watson:     </th> <td>   1.648</td>\n",
       "</tr>\n",
       "<tr>\n",
       "  <th>Prob(Omnibus):</th> <td> 0.343</td> <th>  Jarque-Bera (JB):  </th> <td>   1.569</td>\n",
       "</tr>\n",
       "<tr>\n",
       "  <th>Skew:</th>          <td> 0.363</td> <th>  Prob(JB):          </th> <td>   0.456</td>\n",
       "</tr>\n",
       "<tr>\n",
       "  <th>Kurtosis:</th>      <td> 2.147</td> <th>  Cond. No.          </th> <td>    13.2</td>\n",
       "</tr>\n",
       "</table><br/><br/>Notes:<br/>[1] Standard Errors assume that the covariance matrix of the errors is correctly specified."
      ],
      "text/latex": [
       "\\begin{center}\n",
       "\\begin{tabular}{lclc}\n",
       "\\toprule\n",
       "\\textbf{Dep. Variable:}    &      Salary      & \\textbf{  R-squared:         } &     0.957   \\\\\n",
       "\\textbf{Model:}            &       OLS        & \\textbf{  Adj. R-squared:    } &     0.955   \\\\\n",
       "\\textbf{Method:}           &  Least Squares   & \\textbf{  F-statistic:       } &     622.5   \\\\\n",
       "\\textbf{Date:}             & Tue, 07 Nov 2023 & \\textbf{  Prob (F-statistic):} &  1.14e-20   \\\\\n",
       "\\textbf{Time:}             &     13:29:41     & \\textbf{  Log-Likelihood:    } &   -301.44   \\\\\n",
       "\\textbf{No. Observations:} &          30      & \\textbf{  AIC:               } &     606.9   \\\\\n",
       "\\textbf{Df Residuals:}     &          28      & \\textbf{  BIC:               } &     609.7   \\\\\n",
       "\\textbf{Df Model:}         &           1      & \\textbf{                     } &             \\\\\n",
       "\\textbf{Covariance Type:}  &    nonrobust     & \\textbf{                     } &             \\\\\n",
       "\\bottomrule\n",
       "\\end{tabular}\n",
       "\\begin{tabular}{lcccccc}\n",
       "                         & \\textbf{coef} & \\textbf{std err} & \\textbf{t} & \\textbf{P$> |$t$|$} & \\textbf{[0.025} & \\textbf{0.975]}  \\\\\n",
       "\\midrule\n",
       "\\textbf{const}           &    2.579e+04  &     2273.053     &    11.347  &         0.000        &     2.11e+04    &     3.04e+04     \\\\\n",
       "\\textbf{YearsExperience} &    9449.9623  &      378.755     &    24.950  &         0.000        &     8674.119    &     1.02e+04     \\\\\n",
       "\\bottomrule\n",
       "\\end{tabular}\n",
       "\\begin{tabular}{lclc}\n",
       "\\textbf{Omnibus:}       &  2.140 & \\textbf{  Durbin-Watson:     } &    1.648  \\\\\n",
       "\\textbf{Prob(Omnibus):} &  0.343 & \\textbf{  Jarque-Bera (JB):  } &    1.569  \\\\\n",
       "\\textbf{Skew:}          &  0.363 & \\textbf{  Prob(JB):          } &    0.456  \\\\\n",
       "\\textbf{Kurtosis:}      &  2.147 & \\textbf{  Cond. No.          } &     13.2  \\\\\n",
       "\\bottomrule\n",
       "\\end{tabular}\n",
       "%\\caption{OLS Regression Results}\n",
       "\\end{center}\n",
       "\n",
       "Notes: \\newline\n",
       " [1] Standard Errors assume that the covariance matrix of the errors is correctly specified."
      ],
      "text/plain": [
       "<class 'statsmodels.iolib.summary.Summary'>\n",
       "\"\"\"\n",
       "                            OLS Regression Results                            \n",
       "==============================================================================\n",
       "Dep. Variable:                 Salary   R-squared:                       0.957\n",
       "Model:                            OLS   Adj. R-squared:                  0.955\n",
       "Method:                 Least Squares   F-statistic:                     622.5\n",
       "Date:                Tue, 07 Nov 2023   Prob (F-statistic):           1.14e-20\n",
       "Time:                        13:29:41   Log-Likelihood:                -301.44\n",
       "No. Observations:                  30   AIC:                             606.9\n",
       "Df Residuals:                      28   BIC:                             609.7\n",
       "Df Model:                           1                                         \n",
       "Covariance Type:            nonrobust                                         \n",
       "===================================================================================\n",
       "                      coef    std err          t      P>|t|      [0.025      0.975]\n",
       "-----------------------------------------------------------------------------------\n",
       "const            2.579e+04   2273.053     11.347      0.000    2.11e+04    3.04e+04\n",
       "YearsExperience  9449.9623    378.755     24.950      0.000    8674.119    1.02e+04\n",
       "==============================================================================\n",
       "Omnibus:                        2.140   Durbin-Watson:                   1.648\n",
       "Prob(Omnibus):                  0.343   Jarque-Bera (JB):                1.569\n",
       "Skew:                           0.363   Prob(JB):                        0.456\n",
       "Kurtosis:                       2.147   Cond. No.                         13.2\n",
       "==============================================================================\n",
       "\n",
       "Notes:\n",
       "[1] Standard Errors assume that the covariance matrix of the errors is correctly specified.\n",
       "\"\"\""
      ]
     },
     "execution_count": 64,
     "metadata": {},
     "output_type": "execute_result"
    }
   ],
   "source": [
    "dependent_var = salary_df['Salary']\n",
    "independent_var = salary_df['YearsExperience']\n",
    "independent_var = sm.add_constant(independent_var)\n",
    "\n",
    "# Build the model \n",
    "whole_model = sm.OLS(\n",
    "    dependent_var,\n",
    "    independent_var\n",
    ").fit()\n",
    "\n",
    "whole_model.summary()"
   ]
  },
  {
   "cell_type": "markdown",
   "id": "fdb97705",
   "metadata": {},
   "source": [
    "The stats in this summary here shows us again that the model is reliable, that it is fit for purpose and the numbers are what we should expect base on the stats we got before."
   ]
  },
  {
   "cell_type": "markdown",
   "id": "edcffd11-9b5d-4b6d-8b1e-2ade03514ea1",
   "metadata": {},
   "source": [
    "## Make a prediction ##"
   ]
  },
  {
   "cell_type": "code",
   "execution_count": 68,
   "id": "d6a5ce87-a2a6-45f0-a6b5-3698d8692ab8",
   "metadata": {},
   "outputs": [
    {
     "data": {
      "text/plain": [
       "73042.01180594407"
      ]
     },
     "execution_count": 68,
     "metadata": {},
     "output_type": "execute_result"
    }
   ],
   "source": [
    "# make a prediction for salary with 5 years of experience\n",
    "salary_pred = whole_model.predict([1, 5]) \n",
    "salary_pred[0]"
   ]
  },
  {
   "cell_type": "markdown",
   "id": "f71bf96f",
   "metadata": {},
   "source": [
    "![Line of best fit](assets/line_of_best_fit.png)"
   ]
  },
  {
   "cell_type": "markdown",
   "id": "30876d0f",
   "metadata": {},
   "source": [
    "Using the line of best fit we got before, we can see that if we go along the x axis and go to 5 years of experience, we should expect a salary of 73042.01. So this means we have built built the model for the whole data set properly and that it is working as we expect it to."
   ]
  }
 ],
 "metadata": {
  "kernelspec": {
   "display_name": "Python 3 (ipykernel)",
   "language": "python",
   "name": "python3"
  },
  "language_info": {
   "codemirror_mode": {
    "name": "ipython",
    "version": 3
   },
   "file_extension": ".py",
   "mimetype": "text/x-python",
   "name": "python",
   "nbconvert_exporter": "python",
   "pygments_lexer": "ipython3",
   "version": "3.9.6"
  }
 },
 "nbformat": 4,
 "nbformat_minor": 5
}
